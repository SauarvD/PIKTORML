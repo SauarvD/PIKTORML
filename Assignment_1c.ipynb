{
  "nbformat": 4,
  "nbformat_minor": 0,
  "metadata": {
    "colab": {
      "name": "Copy of Assignment_1c",
      "provenance": [],
      "collapsed_sections": [],
      "include_colab_link": true
    },
    "kernelspec": {
      "name": "python3",
      "display_name": "Python 3"
    }
  },
  "cells": [
    {
      "cell_type": "markdown",
      "metadata": {
        "id": "view-in-github",
        "colab_type": "text"
      },
      "source": [
        "<a href=\"https://colab.research.google.com/github/SauarvD/PIKTORML/blob/master/Assignment_1c.ipynb\" target=\"_parent\"><img src=\"https://colab.research.google.com/assets/colab-badge.svg\" alt=\"Open In Colab\"/></a>"
      ]
    },
    {
      "cell_type": "markdown",
      "metadata": {
        "id": "gH3zDIAgeAS9",
        "colab_type": "text"
      },
      "source": [
        "#PIKTORML Python Assignment"
      ]
    },
    {
      "cell_type": "markdown",
      "metadata": {
        "id": "N71_PkbS0JJp",
        "colab_type": "text"
      },
      "source": [
        "**DISCLAIMER : Plagiarism is strictly prohibited. This is a best practise for your good. If copied then you are fooling yourself**"
      ]
    },
    {
      "cell_type": "markdown",
      "metadata": {
        "id": "lgTz-TE0eATB",
        "colab_type": "text"
      },
      "source": [
        "##Introduction"
      ]
    },
    {
      "cell_type": "markdown",
      "metadata": {
        "id": "TDuX0ZzSeATD",
        "colab_type": "text"
      },
      "source": [
        "You will be given a question and the code for it should be added with a code block cell added just below it with comments which explain the code\n",
        "\n",
        "For example"
      ]
    },
    {
      "cell_type": "markdown",
      "metadata": {
        "colab_type": "text",
        "id": "hbk_yMP2sxxE"
      },
      "source": [
        "***\n",
        "Example Question:\n",
        "\n",
        "Write a program :\n",
        "\n",
        "A function which implements quicksort on an array input to it and returns a sorted array\n",
        "***"
      ]
    },
    {
      "cell_type": "code",
      "metadata": {
        "id": "T0yJjSQ7eATI",
        "colab_type": "code",
        "colab": {}
      },
      "source": [
        "def quicksort(arr):\n",
        "    if len(arr) <= 1:\n",
        "        return arr\n",
        "    pivot = arr[len(arr) // 2]\n",
        "    left = [x for x in arr if x < pivot]\n",
        "    middle = [x for x in arr if x == pivot]\n",
        "    right = [x for x in arr if x > pivot]\n",
        "    return quicksort(left) + middle + quicksort(right)\n",
        "\n",
        "print quicksort([3,6,8,10,1,2,1])"
      ],
      "execution_count": 0,
      "outputs": []
    },
    {
      "cell_type": "markdown",
      "metadata": {
        "colab_type": "text",
        "id": "9KXbiF5uv5-J"
      },
      "source": [
        "**Question 1: (30 points)(20 for code 10 for comments)**\n",
        "\n",
        "Write a function which does a mtrix multiplication on two arrays input to it\n",
        "\n",
        "Hint : Use nested loops, AB is not always equal to BA in matrices"
      ]
    },
    {
      "cell_type": "code",
      "metadata": {
        "id": "ByxtOOv_wXFv",
        "colab_type": "code",
        "outputId": "11b71dea-1d09-4671-d6c2-78f4851c7eef",
        "colab": {
          "base_uri": "https://localhost:8080/",
          "height": 340
        }
      },
      "source": [
        "matrixC = []\n",
        "\n",
        "def matrixmul(matrixA, matrixB):\n",
        "  print(len(matrixA))\n",
        "  print(len(matrixB))\n",
        "  for row in range(0, len(matrixA)):\n",
        "    lst = []\n",
        "    for col in range(0, len(matrixB)):\n",
        "      sum = 0\n",
        "      for row_col in range(0, len(matrixB)):\n",
        "        sum = sum + matrixA[row][row_col] * matrixB[row_col][col]\n",
        "      lst.append(sum)\n",
        "    matrixC.append(lst)\n",
        "  \n",
        "  return matrixC\n",
        "\n",
        "mtA_R = int(input(\"Enter row for matrixA: \"))\n",
        "mtA_C = int(input(\"Enter col for matrixA: \"))\n",
        "\n",
        "mtA = []\n",
        "print(\"Enter numbers rowwise for matrixA\")\n",
        "for i in range(mtA_R):\n",
        "  lst = []\n",
        "  for j in range(mtA_C):\n",
        "    lst.append(int(input()))\n",
        "  mtA.append(lst)\n",
        "\n",
        "mtB_R = int(input(\"Enter row for matrixB: \"))\n",
        "mtB_C = int(input(\"Enter col for matrixB: \"))\n",
        "\n",
        "mtB = []\n",
        "print(\"Enter numbers rowwise for matrixB\")\n",
        "for i in range(mtB_R):\n",
        "  lst = []\n",
        "  for j in range(mtB_C):\n",
        "    lst.append(int(input()))\n",
        "  mtB.append(lst)\n",
        "\n",
        "print(\"MatrixA is: \" + str(mtA))\n",
        "print(\"MatrixB is: \" + str(mtB))\n",
        "\n",
        "matrixmul(mtA, mtB)\n"
      ],
      "execution_count": 68,
      "outputs": [
        {
          "output_type": "stream",
          "text": [
            "Enter row for matrixA: 2\n",
            "Enter col for matrixA: 2\n",
            "Enter numbers rowwise for matrixA\n",
            "1\n",
            "2\n",
            "3\n",
            "4\n",
            "Enter row for matrixB: 2\n",
            "Enter col for matrixB: 2\n",
            "Enter numbers rowwise for matrixB\n",
            "1\n",
            "2\n",
            "3\n",
            "4\n",
            "MatrixA is: [[1, 2], [3, 4]]\n",
            "MatrixB is: [[1, 2], [3, 4]]\n",
            "2\n",
            "2\n"
          ],
          "name": "stdout"
        },
        {
          "output_type": "execute_result",
          "data": {
            "text/plain": [
              "[[7, 10], [15, 22]]"
            ]
          },
          "metadata": {
            "tags": []
          },
          "execution_count": 68
        }
      ]
    },
    {
      "cell_type": "markdown",
      "metadata": {
        "colab_type": "text",
        "id": "zBS6X0woubBL"
      },
      "source": [
        "**Question 2: (40 points)(30 for code 10 for comments)**\n",
        "\n",
        "Define a class named Circle which can be constructed by a radius. The Circle class has a method which can compute the area. \n",
        "\n",
        "Print the area of a circle object defined by the class you created with radius 3"
      ]
    },
    {
      "cell_type": "code",
      "metadata": {
        "id": "0KbxZPIkvkYg",
        "colab_type": "code",
        "colab": {
          "base_uri": "https://localhost:8080/",
          "height": 34
        },
        "outputId": "539950ae-97fd-4787-b571-083ef70c53b7"
      },
      "source": [
        "class Circle:\n",
        "\n",
        "    # Constructor\n",
        "    def __init__(self, r):\n",
        "        self.radius = r  # Create an instance variable\n",
        "\n",
        "    # Instance method\n",
        "    def area(self):\n",
        "            print (3.14 * (self.radius**2))\n",
        "  \n",
        "c = Circle(3)\n",
        "c.area()"
      ],
      "execution_count": 14,
      "outputs": [
        {
          "output_type": "stream",
          "text": [
            "28.26\n"
          ],
          "name": "stdout"
        }
      ]
    },
    {
      "cell_type": "markdown",
      "metadata": {
        "id": "X9tb1AmleATE",
        "colab_type": "text"
      },
      "source": [
        "**Question 3: (60 points)(50 for code 10 for comments)**\n",
        "\n",
        "Write a program to compute:\n",
        "\n",
        "f(n)=f(n-1)+100 when n>0\n",
        "and f(0)=1\n",
        "\n",
        "with a given n input (n>0).\n",
        "\n",
        "Example:\n",
        "If the following n is given as input to the program:\n",
        "\n",
        "5\n",
        "\n",
        "Then, the output of the program should be:\n",
        "\n",
        "500\n",
        "\n",
        "In case of input data being supplied to the question, it should be assumed to be a console input.\n",
        "\n",
        "Hints:\n",
        "We can define recursive function in Python."
      ]
    },
    {
      "cell_type": "code",
      "metadata": {
        "id": "VY2_xPQytX39",
        "colab_type": "code",
        "colab": {
          "base_uri": "https://localhost:8080/",
          "height": 51
        },
        "outputId": "74f96593-211f-4912-b72d-a0433a0f17b2"
      },
      "source": [
        "def func(n):\n",
        "  if(n==0):\n",
        "    return 1\n",
        "  else:\n",
        "    return func(n-1) + 100\n",
        "\n",
        "number = int(input(\"Enter the number\"))\n",
        "print(func(number))"
      ],
      "execution_count": 59,
      "outputs": [
        {
          "output_type": "stream",
          "text": [
            "Enter the number5\n",
            "501\n"
          ],
          "name": "stdout"
        }
      ]
    },
    {
      "cell_type": "markdown",
      "metadata": {
        "id": "xh3EWcA0wlpa",
        "colab_type": "text"
      },
      "source": [
        "**Question 4**: (**120 points)(60 for code 60 for comments)**\n",
        "\n",
        "***This is a bonus question to prove your mettle to the world***\n",
        "\n",
        "***Even if you are not able to solve this it won't be graded but if you are able to solve it you get bonus points***\n",
        "\n",
        "It is possible to write ten as the sum of primes in exactly five different ways:\n",
        "\n",
        "* 7 + 3\n",
        "* 5 + 5\n",
        "* 5 + 3 + 2\n",
        "* 3 + 3 + 2 + 2\n",
        "* 2 + 2 + 2 + 2 + 2\n",
        "\n",
        "What is the **first value** which can be written as the sum of primes in **over** five thousand different ways?\n",
        "\n",
        "Write a program(a function) to solve the above problem to a generic input value and returns the first value which can be written in >= the input value times \n",
        "\n",
        "Print the value for input = 5000"
      ]
    },
    {
      "cell_type": "code",
      "metadata": {
        "id": "8Rxz8cn80iCr",
        "colab_type": "code",
        "colab": {}
      },
      "source": [
        "#your code here"
      ],
      "execution_count": 0,
      "outputs": []
    },
    {
      "cell_type": "markdown",
      "metadata": {
        "id": "ykFOcAHJ0kS-",
        "colab_type": "text"
      },
      "source": [
        "**END OF ASSIGNMENT**"
      ]
    }
  ]
}